{
 "cells": [
  {
   "cell_type": "code",
   "execution_count": 6,
   "id": "0313f084-560f-446e-b525-0099d331f434",
   "metadata": {},
   "outputs": [],
   "source": [
    "import tensorflow as tf \n",
    "import matplotlib.pyplot as plt \n",
    "import numpy as np\n",
    "import os \n",
    "from tqdm import tqdm\n",
    "import cv2 as cv"
   ]
  },
  {
   "cell_type": "code",
   "execution_count": 5,
   "id": "914bdcd8-74b1-4a49-861e-d0a651864a95",
   "metadata": {},
   "outputs": [],
   "source": [
    "data = []"
   ]
  },
  {
   "cell_type": "code",
   "execution_count": 4,
   "id": "c4bc59a8-c21c-4b86-9c5c-7a9d8fccd6e2",
   "metadata": {},
   "outputs": [
    {
     "name": "stdout",
     "output_type": "stream",
     "text": [
      "Happy\n"
     ]
    },
    {
     "name": "stderr",
     "output_type": "stream",
     "text": [
      "100%|████████████████████████████████████████████████████████████████████████████| 903/903 [00:00<00:00, 179534.34it/s]\n"
     ]
    },
    {
     "name": "stdout",
     "output_type": "stream",
     "text": [
      "Neutral\n"
     ]
    },
    {
     "name": "stderr",
     "output_type": "stream",
     "text": [
      "100%|████████████████████████████████████████████████████████████████████████████████████████| 736/736 [00:00<?, ?it/s]\n"
     ]
    },
    {
     "name": "stdout",
     "output_type": "stream",
     "text": [
      "Sad\n"
     ]
    },
    {
     "name": "stderr",
     "output_type": "stream",
     "text": [
      "100%|██████████████████████████████████████████████████████████████████████████| 1042/1042 [00:00<00:00, 344837.05it/s]\n"
     ]
    }
   ],
   "source": [
    "for i in os.listdir(os.path.join(\"Data\")):\n",
    "    print(i)\n",
    "    for j in tqdm(os.listdir(os.path.join(\"Data\", i))):\n",
    "        try: \n",
    "            img = "
   ]
  },
  {
   "cell_type": "code",
   "execution_count": null,
   "id": "33c24920-d0f0-4a16-8df8-85f3fde856f0",
   "metadata": {},
   "outputs": [],
   "source": []
  }
 ],
 "metadata": {
  "kernelspec": {
   "display_name": "Python 3 (ipykernel)",
   "language": "python",
   "name": "python3"
  },
  "language_info": {
   "codemirror_mode": {
    "name": "ipython",
    "version": 3
   },
   "file_extension": ".py",
   "mimetype": "text/x-python",
   "name": "python",
   "nbconvert_exporter": "python",
   "pygments_lexer": "ipython3",
   "version": "3.12.6"
  }
 },
 "nbformat": 4,
 "nbformat_minor": 5
}
